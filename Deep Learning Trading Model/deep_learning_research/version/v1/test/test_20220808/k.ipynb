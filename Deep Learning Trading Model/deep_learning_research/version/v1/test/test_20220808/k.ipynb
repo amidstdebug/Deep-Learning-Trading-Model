{
 "cells": [
  {
   "cell_type": "code",
   "execution_count": 1,
   "metadata": {
    "collapsed": true
   },
   "outputs": [],
   "source": [
    "import pandas as pd\n"
   ]
  },
  {
   "cell_type": "code",
   "execution_count": 6,
   "outputs": [],
   "source": [
    "tick = pd.read_csv('C:/Users/hoony/Downloads/tickdata/tickdata_20220808.csv')"
   ],
   "metadata": {
    "collapsed": false
   }
  },
  {
   "cell_type": "code",
   "execution_count": 7,
   "outputs": [
    {
     "data": {
      "text/plain": "2203907"
     },
     "execution_count": 7,
     "metadata": {},
     "output_type": "execute_result"
    }
   ],
   "source": [
    "len(tick)"
   ],
   "metadata": {
    "collapsed": false
   }
  },
  {
   "cell_type": "code",
   "execution_count": 2,
   "outputs": [],
   "source": [
    "df = pd.read_csv('testdata_20220808.csv')"
   ],
   "metadata": {
    "collapsed": false
   }
  },
  {
   "cell_type": "code",
   "execution_count": 17,
   "outputs": [],
   "source": [
    "sorted_idx = list(df[\"COLUMN01\"].unique())"
   ],
   "metadata": {
    "collapsed": false
   }
  },
  {
   "cell_type": "code",
   "execution_count": 22,
   "outputs": [],
   "source": [
    "missing_idx = list(set(list(tick[\"COLUMN01\"].unique())) - set(sorted_idx))"
   ],
   "metadata": {
    "collapsed": false
   }
  },
  {
   "cell_type": "code",
   "execution_count": 34,
   "outputs": [
    {
     "data": {
      "text/plain": "      COLUMN01   COLUMN02  COLUMN03  COLUMN04  COLUMN05  COLUMN06  COLUMN07  \\\n0            0  600096.SH  93000000    260000    260000    260000    260000   \n1            1  002056.SZ  93000000    213400    213400    212300    213000   \n3            3  002065.SZ  93000000     63600     63700     63500     63700   \n5            5  002080.SZ  93000000    258000    258800    257800    258000   \n7            7  002081.SZ  93000000     47300     47300     47200     47200   \n...        ...        ...       ...       ...       ...       ...       ...   \n895        895  300115.SZ  93003000    119700    119800    119300    119700   \n897        897  300073.SZ  93003000    935000    938300    935000    937500   \n899        899  300072.SZ  93003000     48800     48800     48400     48600   \n903        903  300088.SZ  93003000     72700     72700     72300     72500   \n2675      2675  688301.SH  93013000   5000000   5000000   5000000   5000000   \n\n      COLUMN08  COLUMN09  COLUMN10  ...  COLUMN46  COLUMN47  COLUMN48  \\\n0       260000    260100    260600  ...     27100      8200    511900   \n1       213000    213100    213200  ...      2000      4900    137800   \n3        63700     63800     63900  ...     40300     35700    276100   \n5       258000    258100    258800  ...      1000       400    317200   \n7        47200     47300     47400  ...     20800     16800     53300   \n...        ...       ...       ...  ...       ...       ...       ...   \n895     119800    119900    120000  ...      7600       200    218448   \n897     937500    938800    938900  ...       600       500    146900   \n899      48600     48700     48800  ...     11600     31100     71700   \n903      72500     72600     72700  ...     81600     37400    654700   \n2675   5000000   5059400   5059900  ...       200       200       400   \n\n      COLUMN49  COLUMN50  COLUMN51  COLUMN52  COLUMN53  COLUMN54  COLUMN55  \n0     13309400    781700   2397500    289000    236400    254320    274170  \n1      2939298    786500   1137199    235700    192900    206800    225000  \n3      1755842   1124300   1698239     69700     57100     61800     67000  \n5      8185050    389200    976000    283000    231600    250800    270200  \n7       252093    602500   1492400     52100     42700     45700     49900  \n...        ...       ...       ...       ...       ...       ...       ...  \n895    2613644   1015252   2681531    145800     97200    114800    133600  \n897   13750657     79600    216463   1122000    748000    913200    985400  \n899     349233    748000   2257450     58100     38700     46800     52900  \n903    4754159   2471400   7634000     87400     58200     69900     78200  \n2675    200000     11201     15804   6043200   4028800   4911630   5170610  \n\n[500 rows x 55 columns]",
      "text/html": "<div>\n<style scoped>\n    .dataframe tbody tr th:only-of-type {\n        vertical-align: middle;\n    }\n\n    .dataframe tbody tr th {\n        vertical-align: top;\n    }\n\n    .dataframe thead th {\n        text-align: right;\n    }\n</style>\n<table border=\"1\" class=\"dataframe\">\n  <thead>\n    <tr style=\"text-align: right;\">\n      <th></th>\n      <th>COLUMN01</th>\n      <th>COLUMN02</th>\n      <th>COLUMN03</th>\n      <th>COLUMN04</th>\n      <th>COLUMN05</th>\n      <th>COLUMN06</th>\n      <th>COLUMN07</th>\n      <th>COLUMN08</th>\n      <th>COLUMN09</th>\n      <th>COLUMN10</th>\n      <th>...</th>\n      <th>COLUMN46</th>\n      <th>COLUMN47</th>\n      <th>COLUMN48</th>\n      <th>COLUMN49</th>\n      <th>COLUMN50</th>\n      <th>COLUMN51</th>\n      <th>COLUMN52</th>\n      <th>COLUMN53</th>\n      <th>COLUMN54</th>\n      <th>COLUMN55</th>\n    </tr>\n  </thead>\n  <tbody>\n    <tr>\n      <th>0</th>\n      <td>0</td>\n      <td>600096.SH</td>\n      <td>93000000</td>\n      <td>260000</td>\n      <td>260000</td>\n      <td>260000</td>\n      <td>260000</td>\n      <td>260000</td>\n      <td>260100</td>\n      <td>260600</td>\n      <td>...</td>\n      <td>27100</td>\n      <td>8200</td>\n      <td>511900</td>\n      <td>13309400</td>\n      <td>781700</td>\n      <td>2397500</td>\n      <td>289000</td>\n      <td>236400</td>\n      <td>254320</td>\n      <td>274170</td>\n    </tr>\n    <tr>\n      <th>1</th>\n      <td>1</td>\n      <td>002056.SZ</td>\n      <td>93000000</td>\n      <td>213400</td>\n      <td>213400</td>\n      <td>212300</td>\n      <td>213000</td>\n      <td>213000</td>\n      <td>213100</td>\n      <td>213200</td>\n      <td>...</td>\n      <td>2000</td>\n      <td>4900</td>\n      <td>137800</td>\n      <td>2939298</td>\n      <td>786500</td>\n      <td>1137199</td>\n      <td>235700</td>\n      <td>192900</td>\n      <td>206800</td>\n      <td>225000</td>\n    </tr>\n    <tr>\n      <th>3</th>\n      <td>3</td>\n      <td>002065.SZ</td>\n      <td>93000000</td>\n      <td>63600</td>\n      <td>63700</td>\n      <td>63500</td>\n      <td>63700</td>\n      <td>63700</td>\n      <td>63800</td>\n      <td>63900</td>\n      <td>...</td>\n      <td>40300</td>\n      <td>35700</td>\n      <td>276100</td>\n      <td>1755842</td>\n      <td>1124300</td>\n      <td>1698239</td>\n      <td>69700</td>\n      <td>57100</td>\n      <td>61800</td>\n      <td>67000</td>\n    </tr>\n    <tr>\n      <th>5</th>\n      <td>5</td>\n      <td>002080.SZ</td>\n      <td>93000000</td>\n      <td>258000</td>\n      <td>258800</td>\n      <td>257800</td>\n      <td>258000</td>\n      <td>258000</td>\n      <td>258100</td>\n      <td>258800</td>\n      <td>...</td>\n      <td>1000</td>\n      <td>400</td>\n      <td>317200</td>\n      <td>8185050</td>\n      <td>389200</td>\n      <td>976000</td>\n      <td>283000</td>\n      <td>231600</td>\n      <td>250800</td>\n      <td>270200</td>\n    </tr>\n    <tr>\n      <th>7</th>\n      <td>7</td>\n      <td>002081.SZ</td>\n      <td>93000000</td>\n      <td>47300</td>\n      <td>47300</td>\n      <td>47200</td>\n      <td>47200</td>\n      <td>47200</td>\n      <td>47300</td>\n      <td>47400</td>\n      <td>...</td>\n      <td>20800</td>\n      <td>16800</td>\n      <td>53300</td>\n      <td>252093</td>\n      <td>602500</td>\n      <td>1492400</td>\n      <td>52100</td>\n      <td>42700</td>\n      <td>45700</td>\n      <td>49900</td>\n    </tr>\n    <tr>\n      <th>...</th>\n      <td>...</td>\n      <td>...</td>\n      <td>...</td>\n      <td>...</td>\n      <td>...</td>\n      <td>...</td>\n      <td>...</td>\n      <td>...</td>\n      <td>...</td>\n      <td>...</td>\n      <td>...</td>\n      <td>...</td>\n      <td>...</td>\n      <td>...</td>\n      <td>...</td>\n      <td>...</td>\n      <td>...</td>\n      <td>...</td>\n      <td>...</td>\n      <td>...</td>\n      <td>...</td>\n    </tr>\n    <tr>\n      <th>895</th>\n      <td>895</td>\n      <td>300115.SZ</td>\n      <td>93003000</td>\n      <td>119700</td>\n      <td>119800</td>\n      <td>119300</td>\n      <td>119700</td>\n      <td>119800</td>\n      <td>119900</td>\n      <td>120000</td>\n      <td>...</td>\n      <td>7600</td>\n      <td>200</td>\n      <td>218448</td>\n      <td>2613644</td>\n      <td>1015252</td>\n      <td>2681531</td>\n      <td>145800</td>\n      <td>97200</td>\n      <td>114800</td>\n      <td>133600</td>\n    </tr>\n    <tr>\n      <th>897</th>\n      <td>897</td>\n      <td>300073.SZ</td>\n      <td>93003000</td>\n      <td>935000</td>\n      <td>938300</td>\n      <td>935000</td>\n      <td>937500</td>\n      <td>937500</td>\n      <td>938800</td>\n      <td>938900</td>\n      <td>...</td>\n      <td>600</td>\n      <td>500</td>\n      <td>146900</td>\n      <td>13750657</td>\n      <td>79600</td>\n      <td>216463</td>\n      <td>1122000</td>\n      <td>748000</td>\n      <td>913200</td>\n      <td>985400</td>\n    </tr>\n    <tr>\n      <th>899</th>\n      <td>899</td>\n      <td>300072.SZ</td>\n      <td>93003000</td>\n      <td>48800</td>\n      <td>48800</td>\n      <td>48400</td>\n      <td>48600</td>\n      <td>48600</td>\n      <td>48700</td>\n      <td>48800</td>\n      <td>...</td>\n      <td>11600</td>\n      <td>31100</td>\n      <td>71700</td>\n      <td>349233</td>\n      <td>748000</td>\n      <td>2257450</td>\n      <td>58100</td>\n      <td>38700</td>\n      <td>46800</td>\n      <td>52900</td>\n    </tr>\n    <tr>\n      <th>903</th>\n      <td>903</td>\n      <td>300088.SZ</td>\n      <td>93003000</td>\n      <td>72700</td>\n      <td>72700</td>\n      <td>72300</td>\n      <td>72500</td>\n      <td>72500</td>\n      <td>72600</td>\n      <td>72700</td>\n      <td>...</td>\n      <td>81600</td>\n      <td>37400</td>\n      <td>654700</td>\n      <td>4754159</td>\n      <td>2471400</td>\n      <td>7634000</td>\n      <td>87400</td>\n      <td>58200</td>\n      <td>69900</td>\n      <td>78200</td>\n    </tr>\n    <tr>\n      <th>2675</th>\n      <td>2675</td>\n      <td>688301.SH</td>\n      <td>93013000</td>\n      <td>5000000</td>\n      <td>5000000</td>\n      <td>5000000</td>\n      <td>5000000</td>\n      <td>5000000</td>\n      <td>5059400</td>\n      <td>5059900</td>\n      <td>...</td>\n      <td>200</td>\n      <td>200</td>\n      <td>400</td>\n      <td>200000</td>\n      <td>11201</td>\n      <td>15804</td>\n      <td>6043200</td>\n      <td>4028800</td>\n      <td>4911630</td>\n      <td>5170610</td>\n    </tr>\n  </tbody>\n</table>\n<p>500 rows × 55 columns</p>\n</div>"
     },
     "execution_count": 34,
     "metadata": {},
     "output_type": "execute_result"
    }
   ],
   "source": [
    "\n",
    "tick[tick[\"COLUMN01\"].isin(missing_idx)]"
   ],
   "metadata": {
    "collapsed": false
   }
  },
  {
   "cell_type": "code",
   "execution_count": 44,
   "outputs": [
    {
     "data": {
      "text/plain": "002439.SZ    2\n002958.SZ    2\n002985.SZ    2\n003035.SZ    2\n300001.SZ    2\n            ..\n603613.SH    1\n600201.SH    1\n600497.SH    1\n600079.SH    1\n600499.SH    1\nName: COLUMN02, Length: 456, dtype: int64"
     },
     "execution_count": 44,
     "metadata": {},
     "output_type": "execute_result"
    }
   ],
   "source": [
    "tick[tick[\"COLUMN03\"] == 93000000][\"COLUMN02\"].value_counts()"
   ],
   "metadata": {
    "collapsed": false
   }
  },
  {
   "cell_type": "code",
   "execution_count": 23,
   "outputs": [
    {
     "data": {
      "text/plain": "         COLUMN01   COLUMN02\n0             548  000009.SZ\n1             497  000012.SZ\n2             518  000021.SZ\n3             540  000027.SZ\n4             542  000031.SZ\n...           ...        ...\n2203402   2203723  688772.SH\n2203403   2203724  688779.SH\n2203404   2203870  688779.SH\n2203405   2203806  688819.SH\n2203406   2203722  688981.SH\n\n[2203407 rows x 2 columns]",
      "text/html": "<div>\n<style scoped>\n    .dataframe tbody tr th:only-of-type {\n        vertical-align: middle;\n    }\n\n    .dataframe tbody tr th {\n        vertical-align: top;\n    }\n\n    .dataframe thead th {\n        text-align: right;\n    }\n</style>\n<table border=\"1\" class=\"dataframe\">\n  <thead>\n    <tr style=\"text-align: right;\">\n      <th></th>\n      <th>COLUMN01</th>\n      <th>COLUMN02</th>\n    </tr>\n  </thead>\n  <tbody>\n    <tr>\n      <th>0</th>\n      <td>548</td>\n      <td>000009.SZ</td>\n    </tr>\n    <tr>\n      <th>1</th>\n      <td>497</td>\n      <td>000012.SZ</td>\n    </tr>\n    <tr>\n      <th>2</th>\n      <td>518</td>\n      <td>000021.SZ</td>\n    </tr>\n    <tr>\n      <th>3</th>\n      <td>540</td>\n      <td>000027.SZ</td>\n    </tr>\n    <tr>\n      <th>4</th>\n      <td>542</td>\n      <td>000031.SZ</td>\n    </tr>\n    <tr>\n      <th>...</th>\n      <td>...</td>\n      <td>...</td>\n    </tr>\n    <tr>\n      <th>2203402</th>\n      <td>2203723</td>\n      <td>688772.SH</td>\n    </tr>\n    <tr>\n      <th>2203403</th>\n      <td>2203724</td>\n      <td>688779.SH</td>\n    </tr>\n    <tr>\n      <th>2203404</th>\n      <td>2203870</td>\n      <td>688779.SH</td>\n    </tr>\n    <tr>\n      <th>2203405</th>\n      <td>2203806</td>\n      <td>688819.SH</td>\n    </tr>\n    <tr>\n      <th>2203406</th>\n      <td>2203722</td>\n      <td>688981.SH</td>\n    </tr>\n  </tbody>\n</table>\n<p>2203407 rows × 2 columns</p>\n</div>"
     },
     "execution_count": 23,
     "metadata": {},
     "output_type": "execute_result"
    }
   ],
   "source": [
    "df_na = df[[\"COLUMN01\", \"COLUMN02\"]]\n",
    "df_na"
   ],
   "metadata": {
    "collapsed": false
   }
  },
  {
   "cell_type": "code",
   "execution_count": 11,
   "outputs": [],
   "source": [
    "df_no_na = df.dropna()"
   ],
   "metadata": {
    "collapsed": false
   }
  },
  {
   "cell_type": "code",
   "execution_count": 25,
   "outputs": [],
   "source": [
    "test = df_na[df_na[\"COLUMN02\"] == \"000009.SZ\"]"
   ],
   "metadata": {
    "collapsed": false
   }
  },
  {
   "cell_type": "code",
   "execution_count": 4,
   "outputs": [
    {
     "data": {
      "text/plain": "     COLUMN01   COLUMN02  COLUMN03  COLUMN04  COLUMN05  COLUMN06  COLUMN07  \\\n195      1077  000009.SZ     93003    140900    141500    140500    140700   \n\n     COLUMN08  COLUMN09  COLUMN10  ...  bb_high  bb_low  RSI  MACD  \\\n195    140700    140800    140900  ...      NaN     NaN  NaN   NaN   \n\n     MACD_signal  MACD_diff  stoch_k  stoch_d  ATR  RMA  \n195          NaN        NaN      NaN      NaN  0.0  NaN  \n\n[1 rows x 76 columns]",
      "text/html": "<div>\n<style scoped>\n    .dataframe tbody tr th:only-of-type {\n        vertical-align: middle;\n    }\n\n    .dataframe tbody tr th {\n        vertical-align: top;\n    }\n\n    .dataframe thead th {\n        text-align: right;\n    }\n</style>\n<table border=\"1\" class=\"dataframe\">\n  <thead>\n    <tr style=\"text-align: right;\">\n      <th></th>\n      <th>COLUMN01</th>\n      <th>COLUMN02</th>\n      <th>COLUMN03</th>\n      <th>COLUMN04</th>\n      <th>COLUMN05</th>\n      <th>COLUMN06</th>\n      <th>COLUMN07</th>\n      <th>COLUMN08</th>\n      <th>COLUMN09</th>\n      <th>COLUMN10</th>\n      <th>...</th>\n      <th>bb_high</th>\n      <th>bb_low</th>\n      <th>RSI</th>\n      <th>MACD</th>\n      <th>MACD_signal</th>\n      <th>MACD_diff</th>\n      <th>stoch_k</th>\n      <th>stoch_d</th>\n      <th>ATR</th>\n      <th>RMA</th>\n    </tr>\n  </thead>\n  <tbody>\n    <tr>\n      <th>195</th>\n      <td>1077</td>\n      <td>000009.SZ</td>\n      <td>93003</td>\n      <td>140900</td>\n      <td>141500</td>\n      <td>140500</td>\n      <td>140700</td>\n      <td>140700</td>\n      <td>140800</td>\n      <td>140900</td>\n      <td>...</td>\n      <td>NaN</td>\n      <td>NaN</td>\n      <td>NaN</td>\n      <td>NaN</td>\n      <td>NaN</td>\n      <td>NaN</td>\n      <td>NaN</td>\n      <td>NaN</td>\n      <td>0.0</td>\n      <td>NaN</td>\n    </tr>\n  </tbody>\n</table>\n<p>1 rows × 76 columns</p>\n</div>"
     },
     "execution_count": 4,
     "metadata": {},
     "output_type": "execute_result"
    }
   ],
   "source": [
    "df[df[\"COLUMN01\"] == 1077]"
   ],
   "metadata": {
    "collapsed": false
   }
  },
  {
   "cell_type": "code",
   "execution_count": 5,
   "outputs": [
    {
     "data": {
      "text/plain": "   COLUMN01   COLUMN02  COLUMN03  COLUMN04  COLUMN05  COLUMN06  COLUMN07  \\\n1       497  000012.SZ     93000     64500     64500     64200     64400   \n\n   COLUMN08  COLUMN09  COLUMN10  ...  bb_high  bb_low  RSI  MACD  MACD_signal  \\\n1     64400     64500     64600  ...      NaN     NaN  NaN   NaN          NaN   \n\n   MACD_diff  stoch_k  stoch_d  ATR  RMA  \n1        NaN      NaN      NaN  0.0  NaN  \n\n[1 rows x 76 columns]",
      "text/html": "<div>\n<style scoped>\n    .dataframe tbody tr th:only-of-type {\n        vertical-align: middle;\n    }\n\n    .dataframe tbody tr th {\n        vertical-align: top;\n    }\n\n    .dataframe thead th {\n        text-align: right;\n    }\n</style>\n<table border=\"1\" class=\"dataframe\">\n  <thead>\n    <tr style=\"text-align: right;\">\n      <th></th>\n      <th>COLUMN01</th>\n      <th>COLUMN02</th>\n      <th>COLUMN03</th>\n      <th>COLUMN04</th>\n      <th>COLUMN05</th>\n      <th>COLUMN06</th>\n      <th>COLUMN07</th>\n      <th>COLUMN08</th>\n      <th>COLUMN09</th>\n      <th>COLUMN10</th>\n      <th>...</th>\n      <th>bb_high</th>\n      <th>bb_low</th>\n      <th>RSI</th>\n      <th>MACD</th>\n      <th>MACD_signal</th>\n      <th>MACD_diff</th>\n      <th>stoch_k</th>\n      <th>stoch_d</th>\n      <th>ATR</th>\n      <th>RMA</th>\n    </tr>\n  </thead>\n  <tbody>\n    <tr>\n      <th>1</th>\n      <td>497</td>\n      <td>000012.SZ</td>\n      <td>93000</td>\n      <td>64500</td>\n      <td>64500</td>\n      <td>64200</td>\n      <td>64400</td>\n      <td>64400</td>\n      <td>64500</td>\n      <td>64600</td>\n      <td>...</td>\n      <td>NaN</td>\n      <td>NaN</td>\n      <td>NaN</td>\n      <td>NaN</td>\n      <td>NaN</td>\n      <td>NaN</td>\n      <td>NaN</td>\n      <td>NaN</td>\n      <td>0.0</td>\n      <td>NaN</td>\n    </tr>\n  </tbody>\n</table>\n<p>1 rows × 76 columns</p>\n</div>"
     },
     "execution_count": 5,
     "metadata": {},
     "output_type": "execute_result"
    }
   ],
   "source": [
    "df[df[\"COLUMN01\"] == 497]"
   ],
   "metadata": {
    "collapsed": false
   }
  },
  {
   "cell_type": "code",
   "execution_count": 13,
   "outputs": [
    {
     "data": {
      "text/plain": "   0\n3  3\n4  2\n5  3\n6  4",
      "text/html": "<div>\n<style scoped>\n    .dataframe tbody tr th:only-of-type {\n        vertical-align: middle;\n    }\n\n    .dataframe tbody tr th {\n        vertical-align: top;\n    }\n\n    .dataframe thead th {\n        text-align: right;\n    }\n</style>\n<table border=\"1\" class=\"dataframe\">\n  <thead>\n    <tr style=\"text-align: right;\">\n      <th></th>\n      <th>0</th>\n    </tr>\n  </thead>\n  <tbody>\n    <tr>\n      <th>3</th>\n      <td>3</td>\n    </tr>\n    <tr>\n      <th>4</th>\n      <td>2</td>\n    </tr>\n    <tr>\n      <th>5</th>\n      <td>3</td>\n    </tr>\n    <tr>\n      <th>6</th>\n      <td>4</td>\n    </tr>\n  </tbody>\n</table>\n</div>"
     },
     "execution_count": 13,
     "metadata": {},
     "output_type": "execute_result"
    }
   ],
   "source": [
    "test = pd.DataFrame([3,2,3,4], index=[\"3\", \"4\", \"5\", \"6\"])\n",
    "test"
   ],
   "metadata": {
    "collapsed": false
   }
  },
  {
   "cell_type": "code",
   "execution_count": 14,
   "outputs": [
    {
     "data": {
      "text/plain": "   0\n0   \n3  3\n2  2\n3  3\n4  4",
      "text/html": "<div>\n<style scoped>\n    .dataframe tbody tr th:only-of-type {\n        vertical-align: middle;\n    }\n\n    .dataframe tbody tr th {\n        vertical-align: top;\n    }\n\n    .dataframe thead th {\n        text-align: right;\n    }\n</style>\n<table border=\"1\" class=\"dataframe\">\n  <thead>\n    <tr style=\"text-align: right;\">\n      <th></th>\n      <th>0</th>\n    </tr>\n    <tr>\n      <th>0</th>\n      <th></th>\n    </tr>\n  </thead>\n  <tbody>\n    <tr>\n      <th>3</th>\n      <td>3</td>\n    </tr>\n    <tr>\n      <th>2</th>\n      <td>2</td>\n    </tr>\n    <tr>\n      <th>3</th>\n      <td>3</td>\n    </tr>\n    <tr>\n      <th>4</th>\n      <td>4</td>\n    </tr>\n  </tbody>\n</table>\n</div>"
     },
     "execution_count": 14,
     "metadata": {},
     "output_type": "execute_result"
    }
   ],
   "source": [
    "test.set_index(test[0])"
   ],
   "metadata": {
    "collapsed": false
   }
  },
  {
   "cell_type": "code",
   "execution_count": 45,
   "outputs": [],
   "source": [
    "ordertime = pd.read_csv('testdata_20220808_ordertime.csv')"
   ],
   "metadata": {
    "collapsed": false
   }
  },
  {
   "cell_type": "code",
   "execution_count": 49,
   "outputs": [
    {
     "data": {
      "text/plain": "            dataIdx  volume\nsymbol                     \n000009.SZ   1805025     100\n000012.SZ   7423326      95\n000021.SZ  11311484     100\n000027.SZ  10904995     100\n000031.SZ  10148862     100\n...             ...     ...\n688772.SH   2427828     100\n688777.SH   3723993     100\n688779.SH   4133271     100\n688819.SH   2735910     100\n688981.SH   1381494     100\n\n[480 rows x 2 columns]",
      "text/html": "<div>\n<style scoped>\n    .dataframe tbody tr th:only-of-type {\n        vertical-align: middle;\n    }\n\n    .dataframe tbody tr th {\n        vertical-align: top;\n    }\n\n    .dataframe thead th {\n        text-align: right;\n    }\n</style>\n<table border=\"1\" class=\"dataframe\">\n  <thead>\n    <tr style=\"text-align: right;\">\n      <th></th>\n      <th>dataIdx</th>\n      <th>volume</th>\n    </tr>\n    <tr>\n      <th>symbol</th>\n      <th></th>\n      <th></th>\n    </tr>\n  </thead>\n  <tbody>\n    <tr>\n      <th>000009.SZ</th>\n      <td>1805025</td>\n      <td>100</td>\n    </tr>\n    <tr>\n      <th>000012.SZ</th>\n      <td>7423326</td>\n      <td>95</td>\n    </tr>\n    <tr>\n      <th>000021.SZ</th>\n      <td>11311484</td>\n      <td>100</td>\n    </tr>\n    <tr>\n      <th>000027.SZ</th>\n      <td>10904995</td>\n      <td>100</td>\n    </tr>\n    <tr>\n      <th>000031.SZ</th>\n      <td>10148862</td>\n      <td>100</td>\n    </tr>\n    <tr>\n      <th>...</th>\n      <td>...</td>\n      <td>...</td>\n    </tr>\n    <tr>\n      <th>688772.SH</th>\n      <td>2427828</td>\n      <td>100</td>\n    </tr>\n    <tr>\n      <th>688777.SH</th>\n      <td>3723993</td>\n      <td>100</td>\n    </tr>\n    <tr>\n      <th>688779.SH</th>\n      <td>4133271</td>\n      <td>100</td>\n    </tr>\n    <tr>\n      <th>688819.SH</th>\n      <td>2735910</td>\n      <td>100</td>\n    </tr>\n    <tr>\n      <th>688981.SH</th>\n      <td>1381494</td>\n      <td>100</td>\n    </tr>\n  </tbody>\n</table>\n<p>480 rows × 2 columns</p>\n</div>"
     },
     "execution_count": 49,
     "metadata": {},
     "output_type": "execute_result"
    }
   ],
   "source": [
    "ordertime[ordertime['BSflag'] == \"B\"].groupby('symbol').sum()"
   ],
   "metadata": {
    "collapsed": false
   }
  },
  {
   "cell_type": "code",
   "execution_count": 50,
   "outputs": [
    {
     "data": {
      "text/plain": "           dataIdx  volume\nsymbol                    \n000009.SZ  3057733     100\n000012.SZ  2047179     100\n000021.SZ  6940431      98\n000027.SZ  4573039     100\n000031.SZ  1950054     100\n...            ...     ...\n688772.SH  3413312     100\n688777.SH  1519805     100\n688779.SH  3492261     100\n688819.SH  2393583     100\n688981.SH  3686284     100\n\n[477 rows x 2 columns]",
      "text/html": "<div>\n<style scoped>\n    .dataframe tbody tr th:only-of-type {\n        vertical-align: middle;\n    }\n\n    .dataframe tbody tr th {\n        vertical-align: top;\n    }\n\n    .dataframe thead th {\n        text-align: right;\n    }\n</style>\n<table border=\"1\" class=\"dataframe\">\n  <thead>\n    <tr style=\"text-align: right;\">\n      <th></th>\n      <th>dataIdx</th>\n      <th>volume</th>\n    </tr>\n    <tr>\n      <th>symbol</th>\n      <th></th>\n      <th></th>\n    </tr>\n  </thead>\n  <tbody>\n    <tr>\n      <th>000009.SZ</th>\n      <td>3057733</td>\n      <td>100</td>\n    </tr>\n    <tr>\n      <th>000012.SZ</th>\n      <td>2047179</td>\n      <td>100</td>\n    </tr>\n    <tr>\n      <th>000021.SZ</th>\n      <td>6940431</td>\n      <td>98</td>\n    </tr>\n    <tr>\n      <th>000027.SZ</th>\n      <td>4573039</td>\n      <td>100</td>\n    </tr>\n    <tr>\n      <th>000031.SZ</th>\n      <td>1950054</td>\n      <td>100</td>\n    </tr>\n    <tr>\n      <th>...</th>\n      <td>...</td>\n      <td>...</td>\n    </tr>\n    <tr>\n      <th>688772.SH</th>\n      <td>3413312</td>\n      <td>100</td>\n    </tr>\n    <tr>\n      <th>688777.SH</th>\n      <td>1519805</td>\n      <td>100</td>\n    </tr>\n    <tr>\n      <th>688779.SH</th>\n      <td>3492261</td>\n      <td>100</td>\n    </tr>\n    <tr>\n      <th>688819.SH</th>\n      <td>2393583</td>\n      <td>100</td>\n    </tr>\n    <tr>\n      <th>688981.SH</th>\n      <td>3686284</td>\n      <td>100</td>\n    </tr>\n  </tbody>\n</table>\n<p>477 rows × 2 columns</p>\n</div>"
     },
     "execution_count": 50,
     "metadata": {},
     "output_type": "execute_result"
    }
   ],
   "source": [
    "ordertime[ordertime['BSflag'] == \"S\"].groupby('symbol').sum()"
   ],
   "metadata": {
    "collapsed": false
   }
  }
 ],
 "metadata": {
  "kernelspec": {
   "display_name": "Python 3",
   "language": "python",
   "name": "python3"
  },
  "language_info": {
   "codemirror_mode": {
    "name": "ipython",
    "version": 2
   },
   "file_extension": ".py",
   "mimetype": "text/x-python",
   "name": "python",
   "nbconvert_exporter": "python",
   "pygments_lexer": "ipython2",
   "version": "2.7.6"
  }
 },
 "nbformat": 4,
 "nbformat_minor": 0
}
